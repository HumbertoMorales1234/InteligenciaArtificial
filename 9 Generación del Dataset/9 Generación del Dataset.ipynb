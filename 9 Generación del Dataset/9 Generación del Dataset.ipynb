{
 "cells": [
  {
   "cell_type": "markdown",
   "metadata": {},
   "source": [
    "# 9 Generación del Dataset\n",
    "\n",
    "En esta asignación se creo un dataset de personas utilizando cubrebocas, para la generación de un sistema de reconocimiento facial. En la carpeta \"Demo Dataset\", se encuentran algunos ejemplos de las imágenes utilizadas en el entrenamiento. El archivo cascade.xml fue generado con Cascade Trainer UI, es el archivo que contiene el entrenamiento con las imágenes del Data-set."
   ]
  },
  {
   "cell_type": "code",
   "execution_count": null,
   "metadata": {},
   "outputs": [],
   "source": [
    "cap = cv.VideoCapture(\"../Videos/Entrenamiento Caras Negativo.mp4\", cv.CAP_ANY)\n",
    "i=498\n",
    "frames = 0\n",
    "intervalo = 40\n",
    "while True:\n",
    "    ret, frame = cap.read()\n",
    "    if not ret:\n",
    "        break\n",
    "    cara = frame\n",
    "    \n",
    "    frame3= cv.resize(cara, (30,30))\n",
    "    frame4= cv.rotate(frame3, cv.ROTATE_90_CLOCKWISE)\n",
    "    frame5= cv.rotate(frame3, cv.ROTATE_90_COUNTERCLOCKWISE)\n",
    "    frame6= cv.flip(frame3, 0)\n",
    "    frame7= cv.flip(frame3, 1)\n",
    "    frame8= cv.flip(frame3, -1)\n",
    "    \n",
    "    cv.imshow('cara', cara)\n",
    "    cv.imshow('resize', frame3)\n",
    "    cv.imshow('rotado1', frame4)\n",
    "    cv.imshow('rotado2', frame5)\n",
    "    cv.imshow('flipped1', frame6)\n",
    "    cv.imshow('flipped2', frame7)\n",
    "    cv.imshow('flipped3', frame8)\n",
    "    \n",
    "    #if k == ord('s'):\n",
    "    if frames % intervalo == 0:\n",
    "        i=i+1\n",
    "        cv.imwrite('imgGeneradas/cara'+str(i)+'.jpg', frame3) #*Guarda los frames del video como imagenes\n",
    "        i+=1\n",
    "        cv.imwrite('imgGeneradas/cara'+str(i)+'.jpg', frame4) \n",
    "        i+=1\n",
    "        cv.imwrite('imgGeneradas/cara'+str(i)+'.jpg', frame5) \n",
    "        i+=1\n",
    "        cv.imwrite('imgGeneradas/cara'+str(i)+'.jpg', frame6) \n",
    "        i+=1\n",
    "        cv.imwrite('imgGeneradas/cara'+str(i)+'.jpg', frame7) \n",
    "        i+=1\n",
    "        cv.imwrite('imgGeneradas/cara'+str(i)+'.jpg', frame8) \n",
    "    frames+=1    \n",
    "    k = cv.waitKey(1)\n",
    "    if k== ord('q'):\n",
    "        break\n",
    "cap.release()\n",
    "cv.destroyAllWindows()"
   ]
  }
 ],
 "metadata": {
  "language_info": {
   "name": "python"
  }
 },
 "nbformat": 4,
 "nbformat_minor": 2
}
