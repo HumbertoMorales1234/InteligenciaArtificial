{
 "cells": [
  {
   "cell_type": "markdown",
   "metadata": {},
   "source": [
    "# 5.- Introducción a la Inteligencia Artificial: Introspección"
   ]
  },
  {
   "cell_type": "markdown",
   "metadata": {},
   "source": [
    "Se requiere resolver el siguiente problema analizado la forma en que\n",
    "usted mismo resuelve el problema redactar un ensayo de la solución mínimo\n",
    "3 cuartillas, escribir el documento en markdown."
   ]
  },
  {
   "cell_type": "markdown",
   "metadata": {},
   "source": [
    "## Solución: Encontrar todos los objetos rojos\n",
    "\n",
    "Encontrar colores a través de algoritmos requiere realizar manualmente todos los pasos que el humano realiza de manera inconciente. Desde abrir la imagen, hasta hacer el conteo de los objetos rojos. Lo que debe hacerse entonces puede enunciarse en el siguiente listado:\n",
    "\n",
    "1. Abrir la imagen del archivo\n",
    "2. Definir el perfil de color de la imagen\n",
    "3. Defnir umbrales del color que se quiere buscar (Que valores se tomarán como datos positivos en la búsqueda)\n",
    "4. Aplicar máscaras para resaltar el color que se busca\n",
    "5. Encontrar la ubicación de los objetos del color deseado\n",
    "6. Contar los objetos encontrados\n"
   ]
  },
  {
   "cell_type": "code",
   "execution_count": 4,
   "metadata": {},
   "outputs": [
    {
     "name": "stdout",
     "output_type": "stream",
     "text": [
      "Total de objetos rojos:  262\n",
      "Coordenadas rojos:\n",
      "[(451, 482), (277, 480), (292, 478), (267, 479), (471, 479), (129, 475), (394, 470), (375, 471), (134, 474), (158, 468), (371, 469), (363, 467), (268, 470), (376, 466), (284, 470), (278, 463), (289, 462), (382, 461), (370, 462), (365, 462), (303, 461), (297, 461), (177, 460), (305, 459), (418, 458), (268, 457), (316, 467), (345, 472), (369, 456), (383, 455), (356, 452), (347, 451), (299, 451), (269, 452), (258, 452), (263, 450), (380, 449), (387, 450), (410, 447), (386, 445), (375, 450), (179, 450), (287, 443), (415, 443), (409, 439), (375, 440), (101, 442), (368, 441), (74, 440), (288, 435), (225, 430), (183, 418), (202, 416), (169, 417), (35, 416), (23, 420), (321, 406), (370, 400), (188, 401), (299, 401), (454, 400), (477, 395), (335, 399), (20, 395), (318, 388), (307, 389), (456, 390), (461, 384), (92, 386), (430, 369), (227, 368), (467, 374), (413, 368), (404, 368), (398, 366), (410, 362), (46, 371), (423, 360), (449, 355), (422, 356), (57, 364), (421, 351), (34, 364), (26, 362), (66, 361), (115, 337), (182, 339), (123, 329), (451, 325), (212, 324), (432, 320), (447, 322), (20, 328), (438, 317), (161, 316), (384, 312), (391, 311), (216, 316), (71, 312), (166, 311), (419, 313), (81, 311), (377, 295), (393, 300), (224, 292), (76, 298), (95, 301), (390, 289), (348, 294), (342, 294), (313, 292), (362, 287), (356, 290), (78, 284), (409, 283), (393, 277), (51, 285), (313, 278), (408, 271), (164, 268), (38, 267), (145, 264), (34, 260), (373, 265), (127, 251), (184, 264), (245, 238), (40, 238), (106, 244), (34, 233), (247, 230), (138, 227), (182, 226), (167, 227), (168, 223), (472, 228), (370, 222), (193, 222), (175, 220), (123, 219), (61, 230), (138, 220), (396, 219), (163, 215), (382, 218), (7, 221), (364, 216), (330, 210), (343, 208), (325, 204), (194, 204), (183, 214), (151, 201), (198, 208), (162, 200), (134, 200), (347, 194), (352, 203), (136, 192), (339, 190), (148, 194), (347, 185), (41, 189), (299, 180), (167, 182), (181, 178), (441, 181), (138, 174), (110, 185), (148, 174), (177, 174), (159, 170), (150, 168), (452, 168), (286, 166), (16, 186), (277, 166), (189, 166), (192, 161), (402, 154), (360, 158), (147, 147), (420, 146), (401, 150), (381, 144), (385, 144), (193, 144), (391, 142), (21, 142), (394, 140), (169, 144), (27, 140), (414, 139), (449, 146), (405, 137), (41, 135), (13, 143), (355, 126), (391, 131), (145, 127), (42, 124), (228, 121), (33, 120), (45, 117), (356, 118), (26, 114), (12, 112), (6, 119), (401, 106), (60, 105), (42, 103), (128, 103), (450, 101), (59, 100), (46, 97), (464, 121), (460, 92), (376, 91), (44, 90), (244, 104), (445, 84), (312, 86), (211, 77), (453, 79), (221, 76), (190, 74), (242, 73), (199, 68), (237, 69), (254, 62), (262, 59), (247, 54), (233, 49), (78, 46), (262, 43), (472, 38), (7, 38), (10, 28), (4, 26), (199, 33), (474, 25), (272, 22), (371, 19), (237, 22), (356, 18), (176, 18), (365, 17), (238, 15), (118, 16), (63, 15), (15, 18), (123, 36), (281, 13), (364, 7), (256, 8), (372, 6), (309, 6), (312, 5), (445, 13), (343, 9), (333, 4), (291, 7)]\n"
     ]
    }
   ],
   "source": [
    "import cv2 as cv\n",
    "img = cv.imread('./images/f1.jpg',1)\n",
    "img2 = cv.cvtColor(img, cv.COLOR_BGR2RGB)\n",
    "img3 = cv.cvtColor(img2, cv.COLOR_RGB2HSV)\n",
    "\n",
    "umbralRojoBajo=(0,80,80)\n",
    "umbralRojoAlto=(10,255,255)\n",
    "umbralRojoBajob=(140,80,80)\n",
    "umbralRojoAltob=(255,255,255)\n",
    "\n",
    "mascara1Rojo= cv.inRange(img3, umbralRojoBajo, umbralRojoAlto) # Resalta los colores rojos\n",
    "mascara2Rojo= cv.inRange(img3, umbralRojoBajob, umbralRojoAltob) # Resalta los colores rojos\n",
    "mascaraRojo= mascara1Rojo+mascara2Rojo\n",
    "resultadoRojo = cv.bitwise_and(img, img, mask=mascaraRojo)\n",
    "\n",
    "cv.imshow('Resultado Rojo', resultadoRojo)\n",
    "cv.imshow('Normal', img)\n",
    "\n",
    "contornosR, _ = cv.findContours(mascaraRojo, cv.RETR_EXTERNAL, cv.CHAIN_APPROX_SIMPLE)\n",
    "\n",
    "# Inicializar una lista para almacenar las coordenadas de los colores rojos\n",
    "coordenadasRojo = []\n",
    "\n",
    "# Recorrer los contornos y obtener las coordenadas del centro de cada contorno\n",
    "totalRojos = 0\n",
    "\n",
    "for contorno in contornosR:\n",
    "    momentos = cv.moments(contorno)\n",
    "    if momentos[\"m00\"] != 0:\n",
    "        x = int(momentos[\"m10\"] / momentos[\"m00\"])\n",
    "        y = int(momentos[\"m01\"] / momentos[\"m00\"])\n",
    "        coordenadasRojo.append((x, y))\n",
    "        totalRojos+=1\n",
    "        \n",
    "\n",
    "\n",
    "print('Total de objetos rojos: ',totalRojos)\n",
    "print('Coordenadas rojos:')\n",
    "print(coordenadasRojo)\n",
    "\n",
    "\n",
    "cv.waitKey(0)\n",
    "cv.destroyAllWindows()"
   ]
  },
  {
   "cell_type": "markdown",
   "metadata": {},
   "source": [
    "## Misma solución aplicada a objetos amarillos\n",
    "\n",
    "Así como para encontrar los objetos de color rojo se pueden encontrar los objetos de cualquier otro color, la única diferencia es la definición de los umbrales y la aplicación de las máscaras. Para el color rojo se requiere un umbral bajo y uno alto debido a que el color rojo tiene valores en el limite superior y en el límite inferior de la escala de colores, con el resto de colores solo es necesario definir un umbral pues estos se mantinene continuos en el espectro."
   ]
  },
  {
   "cell_type": "code",
   "execution_count": 3,
   "metadata": {},
   "outputs": [
    {
     "name": "stdout",
     "output_type": "stream",
     "text": [
      "Total de objetos amarillos:  198\n",
      "Coordenadas Amarillas\n",
      "[(154, 470), (437, 475), (138, 466), (397, 470), (338, 464), (11, 465), (344, 457), (340, 454), (290, 453), (244, 453), (25, 450), (281, 448), (19, 447), (143, 456), (73, 465), (8, 450), (90, 438), (227, 464), (400, 431), (445, 440), (382, 433), (373, 430), (474, 448), (416, 426), (379, 424), (407, 425), (352, 434), (18, 435), (367, 423), (373, 416), (164, 416), (372, 410), (389, 414), (160, 399), (222, 393), (152, 392), (3, 398), (228, 387), (320, 377), (21, 377), (171, 388), (110, 376), (13, 374), (150, 376), (209, 371), (188, 381), (14, 368), (148, 367), (127, 375), (14, 363), (447, 369), (265, 378), (312, 392), (127, 354), (165, 359), (149, 355), (118, 339), (120, 335), (47, 347), (409, 337), (386, 322), (94, 343), (277, 309), (464, 330), (6, 319), (462, 304), (447, 301), (215, 317), (313, 310), (432, 296), (430, 293), (451, 293), (458, 292), (282, 291), (449, 284), (421, 285), (4, 282), (204, 281), (453, 276), (431, 275), (445, 275), (200, 270), (160, 268), (436, 268), (471, 276), (98, 270), (120, 252), (449, 249), (290, 258), (376, 246), (239, 252), (320, 246), (265, 250), (238, 240), (180, 239), (250, 237), (174, 233), (244, 233), (243, 229), (218, 234), (263, 229), (378, 232), (221, 222), (262, 219), (202, 230), (426, 226), (232, 210), (402, 209), (219, 205), (260, 209), (298, 201), (70, 206), (386, 190), (380, 202), (254, 192), (234, 192), (261, 183), (251, 183), (291, 182), (103, 177), (112, 175), (402, 171), (187, 190), (447, 165), (439, 158), (135, 164), (448, 180), (169, 154), (84, 145), (258, 145), (170, 137), (333, 129), (282, 126), (198, 125), (70, 135), (189, 125), (316, 127), (92, 121), (283, 118), (361, 122), (300, 115), (375, 121), (348, 121), (60, 115), (422, 113), (371, 113), (431, 113), (70, 109), (422, 107), (182, 106), (411, 103), (88, 101), (64, 102), (368, 102), (392, 101), (405, 96), (169, 96), (85, 94), (319, 103), (412, 87), (245, 91), (320, 84), (249, 82), (210, 80), (113, 88), (214, 62), (143, 62), (438, 51), (442, 47), (168, 54), (60, 53), (300, 44), (295, 43), (417, 59), (288, 40), (365, 40), (301, 33), (291, 32), (195, 43), (31, 41), (397, 26), (267, 31), (209, 32), (342, 23), (225, 16), (480, 17), (234, 17), (219, 14), (113, 14), (107, 16), (4, 17), (267, 15), (27, 18), (240, 11), (399, 9), (322, 27), (437, 4), (228, 7)]\n"
     ]
    }
   ],
   "source": [
    "import cv2 as cv\n",
    "\n",
    "img = cv.imread('./images/f1.jpg',1)\n",
    "img2 = cv.cvtColor(img, cv.COLOR_BGR2RGB)\n",
    "img3 = cv.cvtColor(img2, cv.COLOR_RGB2HSV)\n",
    "\n",
    "umbralBajoAmarillo = (20,80,80)\n",
    "umbralAltoAmarillo = (40,255,255)\n",
    "\n",
    "mascaraAmarillo = cv.inRange(img3, umbralBajoAmarillo, umbralAltoAmarillo)\n",
    "resultadoAmarillo = cv.bitwise_and(img, img, mask=mascaraAmarillo)\n",
    "\n",
    "cv.imshow('Normal', img)\n",
    "cv.imshow('Resultado Amarillo', resultadoAmarillo)\n",
    "\n",
    "contornosA, _ = cv.findContours(mascaraAmarillo, cv.RETR_EXTERNAL, cv.CHAIN_APPROX_SIMPLE)\n",
    "\n",
    "coordenadasAmarillo = []\n",
    "\n",
    "totalAmarillos = 0\n",
    "\n",
    "for contorno in contornosA:\n",
    "    momentos = cv.moments(contorno)\n",
    "    if momentos[\"m00\"] != 0:\n",
    "        x = int(momentos[\"m10\"] / momentos[\"m00\"])\n",
    "        y = int(momentos[\"m01\"] / momentos[\"m00\"])\n",
    "        coordenadasAmarillo.append((x, y))\n",
    "        totalAmarillos+=1\n",
    "        \n",
    "print('Total de objetos amarillos: ',totalAmarillos)\n",
    "print('Coordenadas Amarillas')\n",
    "print(coordenadasAmarillo)\n",
    "\n",
    "cv.waitKey(0)\n",
    "cv.destroyAllWindows()"
   ]
  }
 ],
 "metadata": {
  "kernelspec": {
   "display_name": "Python 3",
   "language": "python",
   "name": "python3"
  },
  "language_info": {
   "codemirror_mode": {
    "name": "ipython",
    "version": 3
   },
   "file_extension": ".py",
   "mimetype": "text/x-python",
   "name": "python",
   "nbconvert_exporter": "python",
   "pygments_lexer": "ipython3",
   "version": "3.11.6"
  }
 },
 "nbformat": 4,
 "nbformat_minor": 2
}
