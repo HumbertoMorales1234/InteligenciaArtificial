{
 "cells": [
  {
   "cell_type": "markdown",
   "metadata": {},
   "source": [
    "## Herramienta de Generación del Dataset\n",
    "\n",
    "Esta herramienta simplemente abre un video y de ahí va tomando algunos frames, les aplica una reducción de tamaño y finalmente algunos filtros de rotación o inversión.  Uno de los tantos videos utilizados para la generación se encuentra en la carpeta de Video. El video utilizado es  \"Entrenamiento Caras Negativo.mp4\""
   ]
  },
  {
   "cell_type": "code",
   "execution_count": null,
   "metadata": {},
   "outputs": [],
   "source": [
    "import cv2 as cv\n",
    "\n",
    "cap = cv.VideoCapture(\"../Video/Entrenamiento Caras Positivos.mp4\", cv.CAP_ANY)\n",
    "#cap = cv.VideoCapture(\"../Video/Entrenamiento Caras Negativo.mp4\", cv.CAP_ANY)\n",
    "i=0\n",
    "frames = 0\n",
    "intervalo = 10\n",
    "while True:\n",
    "    ret, frame = cap.read()\n",
    "    if not ret:\n",
    "        break\n",
    "    cara = frame\n",
    "    \n",
    "    frame3= cv.resize(cara, (72,72))\n",
    "    frame7= cv.flip(frame3, 1)\n",
    "    \n",
    "    cv.imshow('cara', cara)\n",
    "    cv.imshow('resize', frame3)\n",
    "    cv.imshow('flipped2', frame7)\n",
    "    \n",
    "    if frames % intervalo == 0:\n",
    "        i=i+1\n",
    "        cv.imwrite('imgGeneradas/cara'+str(i)+'.jpg', frame3) #*Guarda los frames del video como imagenes \n",
    "        i+=1\n",
    "        cv.imwrite('imgGeneradas/cara'+str(i)+'.jpg', frame7) \n",
    "    frames+=1    \n",
    "    k = cv.waitKey(1)\n",
    "    if k== ord('q'):\n",
    "        break\n",
    "cap.release()\n",
    "cv.destroyAllWindows()"
   ]
  },
  {
   "cell_type": "markdown",
   "metadata": {},
   "source": [
    "## Demostración del XML Generado\n",
    "\n",
    "Para la evaluación del funcionamiento del XML generado, se edito un video utilizando algunas fotos de personas con y sin cubrebocas. Al correr el video, el XML enmarca lo que detecta como una persona usando cubrebocas. El video generado se encuentra en la carpeta Video con el título de Testing Haarcascade\""
   ]
  },
  {
   "cell_type": "code",
   "execution_count": 9,
   "metadata": {},
   "outputs": [],
   "source": [
    "import cv2 as cv\n",
    "\n",
    "cubreBocas = cv.CascadeClassifier('cascade1.xml')\n",
    "cap = cv.VideoCapture(\"../Video/Testing Haarcascade.mp4\", cv.CAP_ANY)\n",
    "#cap = cv.VideoCapture(0, cv.CAP_DSHOW)\n",
    "\n",
    "\n",
    "while True:\n",
    "    ret, frame = cap.read()\n",
    "    if not ret:\n",
    "        break\n",
    "    gray = cv.cvtColor(frame, cv.COLOR_BGR2GRAY)\n",
    "    \n",
    "    conM = cubreBocas.detectMultiScale(gray, scaleFactor = 1.3, minNeighbors=80, minSize=(80,80), )\n",
    "    for(x, y, w, h) in conM:\n",
    "        frame2 = cv.rectangle(frame, (x,y), (x+w, y+h), (0, 255, 0), 2)        \n",
    "        cv.putText(frame2, f'Trae Cubrebocas', (x, y-5), cv.FONT_HERSHEY_SIMPLEX, 0.5, (0, 255, 0), 2)\n",
    "        \n",
    "    cv.imshow('rostros', frame)\n",
    "    k = cv.waitKey(1)\n",
    "    if k== ord('q'):\n",
    "        break\n",
    "    \n",
    "cap.release()\n",
    "cv.destroyAllWindows()"
   ]
  }
 ],
 "metadata": {
  "kernelspec": {
   "display_name": "Python 3",
   "language": "python",
   "name": "python3"
  },
  "language_info": {
   "codemirror_mode": {
    "name": "ipython",
    "version": 3
   },
   "file_extension": ".py",
   "mimetype": "text/x-python",
   "name": "python",
   "nbconvert_exporter": "python",
   "pygments_lexer": "ipython3",
   "version": "3.11.7"
  }
 },
 "nbformat": 4,
 "nbformat_minor": 2
}
