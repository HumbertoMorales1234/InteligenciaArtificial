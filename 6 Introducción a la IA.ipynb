{
 "cells": [
  {
   "cell_type": "markdown",
   "metadata": {},
   "source": [
    "# Introducción a la Inteligencia Artificial: El Proceso de Razonamiento según la Lógica\n",
    "\n",
    "## El problema de Josephus\n",
    "\n",
    "El problema de Josephus se da a partir de que josephus y sus hombres iban a ser capturados, para evitarlo propusieron hacer un circulo, y lo que procedería es que comenzando por el soldado en la posición #1 este mataría al de la posición #2, despúes el soldado #1 pasaría el arma al soldado en la siguiente posición, en este caso el soldado en la posición #3.\n",
    "\n",
    "![Alt text](images/josephus.png)\n",
    "\n",
    "Repitiendo esta secuencia, al final solo quedaría un hombre, en este caso fue Josephus. Entonces se sucita la siguiente pregunta ¿En que lugar se sentó josephus para sobrevivir?"
   ]
  },
  {
   "cell_type": "markdown",
   "metadata": {},
   "source": [
    "## Planteamiento Matemático\n",
    "\n",
    "Las eliminaciones de soldados son por mitades, sobretodo si el número de soldados es número par, en caso de que el número de soldados que queda despues de una eliminación es $n/2 + 0.5$, siendo $n$ el número de soldados previo a la eliminación.  Por ende podemos representar el número de soldados con a $2^m + k$, siendo $m$ la potencia de 2 mayor, que quepa dentro de $n$, mientras que $k$ es el número de soldados que no se contaron en $2^m$ para llegar al total de soldados. \n",
    "\n",
    "Algunso ejemplos son los siguientes:\n",
    "- 8 soldados  = $2^3+0$\n",
    "- 14 soldados = $2^3+6$\n",
    "- 15 soldados = $2^3+7$\n",
    "\n",
    "Si observamos bien hay dos escenarios posibles, el primero es $2^m = n$ en este escenario es mucho más sencillo calcular quien sobrevivirá, el segundo caso es cuando $2^m + k = n$"
   ]
  },
  {
   "cell_type": "markdown",
   "metadata": {},
   "source": [
    "### Cuando $2^m = n$\n",
    "\n",
    "En este caso el resultado de cada eliminación es $2 ^{m-1}$. Es decir, siempre será una división exacta y todas y cada una de las iteraciones $n$ será $2^m$\n",
    "\n",
    "En este ejemplo, el soldado **1** empieza con el arma, elimina al soldado ~~2~~ y le pasa el arma al soldado 3, este elimina al soldado 4 y pasa el arma al soldado 5, que elimina al 6 y pasa el arma al soldado 7, de manera que este elimina al soldado 8.\n",
    "$n = 8$ : **1**,2,3,4,5,6,7,8 -> 1, ~~2~~, 3, ~~4~~, 5, ~~6~~, **7**, ~~8~~ -> 1,3,5,**7**\n",
    "Al eliminar al soldado 8, el soldado 7 es quién se queda el arma al finalizar la primera ronda, pero este debe pasar el arma al siguiente soldado, que al completar el circulo sería el soldado 1, de manera que la siguiente ronda de eliminación se daría de la siguiente forma\n",
    "**1**,3,5,7 -> 1, ~~2~~, 3, ~~7~~ -> 1, **3**\n",
    "Para esta última ronda, el soldado 3 debe pasar el arma al soldado 1, por lo que este será el sobreviviente.\n",
    "\n",
    "En todas las rondas el soldado que comenzaba con las eliminaciones era el soldado 1, esta regla se aplica para todos los casos en los que $2^m = n$. \n",
    "Mientras $2^m = n$ el soldado sobreviviente al final será el soldado 1"
   ]
  },
  {
   "cell_type": "markdown",
   "metadata": {},
   "source": [
    "### Cuando $2^m+k=n$\n",
    "\n",
    "En este caso el resultado de cada eliminación será distinto, pues el valor de $k$ en el primer circulo será distindo al de la siguiente iteración. Para analizar el comportamiento de esta situación evaluaremos las transformaciones cuando $n=5$, $n=6$ y $n=9$\n",
    "\n",
    "En este caso, después de la primera ronda el arma queda en el soldado 5, sin embargo, este soldado no ha matado al siguiente, por lo que para completar la ronda, este debe matar al soldado 1. De manera que ahora si empiece la siguiente ronda, el soldado 5 al haber matado al soldado 1, debe pasarle el arma al soldado 3, el soldado 3 matará al 5 y será el sobreviviente.\n",
    "- 5: $2^2+1$: **1**, 2, 3, 4, 5 -> 1, ~~2~~, 3, ~~4~~, **5** -> 1,3,**5** -> ~~1~~, **3**, 5 -> **3**, ~~5~~ -> **3**\n",
    "\n",
    "En este segundo ejemplo, podemos ver que si se completa la primera ronda de eliminación, por lo que el soldado 1, comenzará la segunda ronda, elimina al soldado 3 y pasa el arma al soldado 5, pero el soldado 5 debe matar al 1 pues es el siguiente de el, se manera que el soldado 5 ahora es el sobreviviente.\n",
    "- 6: $2^2+2$: **1**, 2, 3, 4, 5, 6 -> 1, ~~2~~, 3, ~~4~~, **5**, ~~6~~ -> **1**, 3,5 -> 1, ~~3~~, **5** -> **5**\n",
    "\n",
    "Para este tercer ejemplo, en la primera ronda no se completa, por lo que el soldado 9 mata al soldado 1, el soldado 3 comienza la segunda ronda, mata al soldado 5, el soldado 7 mata al soldado 9 y pasa el arma, el soldado 3 mata al soldado y es el sobreviviente.\n",
    "- 9: $2^3+1$: **1**, 2, 3, 4, 5, 6, 7, 8, 9 -> 1, ~~2~~, 3, ~~4~~, 5, ~~6~~, 7, ~~8~~, **9** -> 1, 3, 5, 7,**9** -> ~~1~~, 3, ~~5~~, **7**, ~~9~~ -> **3**, 7 -> **3**   \n",
    "\n",
    "Para encontrar la solución a este problema, podemos intentar reducir el circulo para volverlo uno en donde $n=2^m$, de esta manera el soldado que quede en la posición 1 será el que sobreviva. La eliminación será eliminando los número pares hasta llegar a $2k$ es decir, el circulo del primer ejemplo, eliminariamos la posición 2, y el soldado 3 sería la posición 1 en este circulo donde $n=2^m$\n",
    "Si repetimos este algoritmo en el segundo ejemplo el valor de $k$ es 2, por lo que las elminaciones se harán en las posiciones 2 y 4, y la nueva posición 1 será el soldado 5, es decir, el sobreviviente.\n",
    "Para el tercer ejemplo, $k=1$, por lo que tenemos que eliminar la posición 2, por lo que el soldado 3 será la posición 1 del nuevo círculo de $n=2^m$\n",
    "\n",
    "Si analizamos el funcionamiento de este algorimo podemos ver que se resume en la formula $2k+1 = s$, siento $s$ la posición del sobreviviente."
   ]
  },
  {
   "cell_type": "markdown",
   "metadata": {},
   "source": [
    "### Código\n",
    "\n",
    "El código para resolver este problema es bastante sencillo, pues solamente es necesario resolver la formula $2k+1$. Para ello solamente es necesario encontrar el valor de $k$ respecto al número total de soldados, sustituir valores en la formula y el resultado será el soldado en dicha posición. La parte más compleja en todo caso sería encontrar el valor de $m$, pues con ese valor es bastante sencillo encontrar el valor de $k$ a través de la formula $n-2^m=k$.\n",
    "\n",
    "El algorítmo encargado de hacer estos calculos es el siguiente:"
   ]
  },
  {
   "cell_type": "code",
   "execution_count": 13,
   "metadata": {},
   "outputs": [
    {
     "name": "stdout",
     "output_type": "stream",
     "text": [
      "El sobreviviente será el soldado en la posición:  19\n"
     ]
    }
   ],
   "source": [
    "numSoldados = int(input('Inserta el número de soldados'))\n",
    "copySoldados = numSoldados\n",
    "\n",
    "m = 1 \n",
    "\n",
    "while (numSoldados-(2**(m+1)) >0 ):\n",
    "    m+=1\n",
    "    k= numSoldados-(2**m)\n",
    "\n",
    "print('El sobreviviente será el soldado en la posición: ', 2*k+1)"
   ]
  },
  {
   "cell_type": "markdown",
   "metadata": {},
   "source": [
    "## Resultado\n",
    "\n",
    "Josephus se sentó en la posición número 19"
   ]
  }
 ],
 "metadata": {
  "kernelspec": {
   "display_name": "Python 3",
   "language": "python",
   "name": "python3"
  },
  "language_info": {
   "codemirror_mode": {
    "name": "ipython",
    "version": 3
   },
   "file_extension": ".py",
   "mimetype": "text/x-python",
   "name": "python",
   "nbconvert_exporter": "python",
   "pygments_lexer": "ipython3",
   "version": "3.11.6"
  }
 },
 "nbformat": 4,
 "nbformat_minor": 2
}
