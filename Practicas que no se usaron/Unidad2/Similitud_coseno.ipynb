{
 "cells": [
  {
   "cell_type": "code",
   "execution_count": 3,
   "metadata": {},
   "outputs": [
    {
     "name": "stdout",
     "output_type": "stream",
     "text": [
      "Mon, 02 Oct 2023 06:05:47 -0600\n",
      "Katalin Karikó y Drew Weissman ganaron el Premio Nobel de Medicina por sus investigaciones del ARN que llevaron a vacunas contra Covid-19.\n",
      "https://www.reforma.com/dan-nobel-de-medicina-a-investigadores-de-vacuna-vs-covid/ar2685434\n"
     ]
    }
   ],
   "source": [
    "# Leer noticias\n",
    "import feedparser\n",
    "\n",
    "NewsFeed = feedparser.parse('https://www.reforma.com/rss/ciencia.xml')\n",
    "entry = NewsFeed.entries[0]\n",
    "\n",
    "print(entry.published)\n",
    "print(entry.summary)\n",
    "print(entry.link)"
   ]
  },
  {
   "cell_type": "code",
   "execution_count": null,
   "metadata": {},
   "outputs": [],
   "source": []
  }
 ],
 "metadata": {
  "kernelspec": {
   "display_name": "Python 3",
   "language": "python",
   "name": "python3"
  },
  "language_info": {
   "codemirror_mode": {
    "name": "ipython",
    "version": 3
   },
   "file_extension": ".py",
   "mimetype": "text/x-python",
   "name": "python",
   "nbconvert_exporter": "python",
   "pygments_lexer": "ipython3",
   "version": "3.11.5"
  },
  "orig_nbformat": 4
 },
 "nbformat": 4,
 "nbformat_minor": 2
}
