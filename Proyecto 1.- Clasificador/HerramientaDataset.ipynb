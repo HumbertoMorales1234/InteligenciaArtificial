{
 "cells": [
  {
   "cell_type": "markdown",
   "metadata": {},
   "source": [
    "# Herramienta de Generación del DataSet\n",
    "\n",
    "En la carpeta de Video se encuentran los distintos videos utilizados para que con este programa, se tomaran los frames del video y se convirtieran en las imagenes tratadas del Dataset."
   ]
  },
  {
   "cell_type": "code",
   "execution_count": 5,
   "metadata": {},
   "outputs": [
    {
     "name": "stdout",
     "output_type": "stream",
     "text": [
      "8170\n"
     ]
    }
   ],
   "source": [
    "import cv2 as cv\n",
    "\n",
    "cap = cv.VideoCapture(\"../Video/Rosas Entrenamiento.mp4\", cv.CAP_ANY)\n",
    "#cap = cv.VideoCapture(\"../Video/Entrenamiento Girasoles.mp4\", cv.CAP_ANY)\n",
    "#cap = cv.VideoCapture(\"../Video/Entrenamiento Orquidea.mp4\", cv.CAP_ANY)\n",
    "#cap = cv.VideoCapture(\"../Video/Entrenamiento Cempa.mp4\", cv.CAP_ANY)\n",
    "#cap = cv.VideoCapture(\"../Video/Entrenamiento Dandelion.mp4\", cv.CAP_ANY)\n",
    "\n",
    "carpeta = 'Rosa'\n",
    "#carpeta = 'Girasol'\n",
    "#carpeta = 'Orquidea'\n",
    "#carpeta = 'Cempa'\n",
    "#carpeta = 'Dandelion'\n",
    "\n",
    "i=0\n",
    "frames = 0\n",
    "intervalo = 1\n",
    "while True:\n",
    "    ret, frame = cap.read()\n",
    "    if not ret:\n",
    "        break\n",
    "    flor = frame\n",
    "    \n",
    "    frame3= cv.resize(flor, (200,200))\n",
    "    frame4= cv.rotate(frame3, cv.ROTATE_90_CLOCKWISE)\n",
    "    frame5= cv.rotate(frame3, cv.ROTATE_90_COUNTERCLOCKWISE)\n",
    "    frame6= cv.flip(frame3, 0)\n",
    "    frame7= cv.flip(frame3, 1)\n",
    "    frame8= cv.flip(frame3, -1)\n",
    "    \n",
    "    cv.imshow('Flor', flor)\n",
    "    cv.imshow('resize', frame3)\n",
    "    cv.imshow('flipped2', frame7)\n",
    "    \n",
    "    #if k == ord('s'):\n",
    "    if frames % intervalo == 0:\n",
    "        i=i+1\n",
    "        cv.imwrite('Flowers/'+carpeta+'/'+str(i)+'.jpg', frame3) #*Guarda los frames del video como imagenes \n",
    "        i+=1\n",
    "        cv.imwrite('Flowers/'+carpeta+'/'+str(i)+'.jpg', frame7) \n",
    "    frames+=1    \n",
    "    k = cv.waitKey(1)\n",
    "    if k== ord('q'):\n",
    "        break\n",
    "cap.release()\n",
    "print(i)\n",
    "cv.destroyAllWindows()"
   ]
  }
 ],
 "metadata": {
  "kernelspec": {
   "display_name": "Python 3",
   "language": "python",
   "name": "python3"
  },
  "language_info": {
   "codemirror_mode": {
    "name": "ipython",
    "version": 3
   },
   "file_extension": ".py",
   "mimetype": "text/x-python",
   "name": "python",
   "nbconvert_exporter": "python",
   "pygments_lexer": "ipython3",
   "version": "3.11.6"
  }
 },
 "nbformat": 4,
 "nbformat_minor": 2
}
