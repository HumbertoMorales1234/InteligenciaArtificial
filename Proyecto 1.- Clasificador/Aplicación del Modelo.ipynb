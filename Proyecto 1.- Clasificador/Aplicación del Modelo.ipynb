{
 "cells": [
  {
   "cell_type": "markdown",
   "metadata": {},
   "source": [
    "# Aplicación del Modelo\n",
    "\n",
    "Para la aplicación del modelo se generaron 2 códigos, el primero permite evaluar de manera individual una imagen en específico. El segundo programa lee todas las imagenes en la carpeta de imgsPrueba, y verifica de una por una mostrando el nombre del archivo y la categoría a la que asigno esa flor."
   ]
  },
  {
   "cell_type": "code",
   "execution_count": 24,
   "metadata": {},
   "outputs": [
    {
     "name": "stdout",
     "output_type": "stream",
     "text": [
      "1/1 [==============================] - 0s 89ms/step\n",
      "Prediccion [[0. 0. 0. 1. 0.]]\n",
      "Predicted class: Orquidea\n"
     ]
    }
   ],
   "source": [
    "import tensorflow as tf\n",
    "from tensorflow.keras.preprocessing import image\n",
    "import numpy as np\n",
    "\n",
    "modelo = 'celulas.h5py'\n",
    "model = tf.keras.models.load_model(modelo)\n",
    "\n",
    "target_size = (200, 200)\n",
    "flower = \"imgsPrueba/orquidea3.webp\"\n",
    "\n",
    "img = image.load_img(flower, target_size=target_size)\n",
    "img_array = image.img_to_array(img)\n",
    "img_array = np.expand_dims(img_array, axis=0)\n",
    "\n",
    "# Make prediction\n",
    "predictions = model.predict(img_array)\n",
    "print(\"Prediccion\", predictions)\n",
    "\n",
    "class_labels = [\"Cempa\", \"Dandelion\", \"Girasol\", \"Orquidea\", \"Rosa\"]\n",
    "predicted_class_indices = np.argmax(predictions, axis=1)\n",
    "predicted_labels = [class_labels[i] for i in predicted_class_indices]\n",
    "\n",
    "# Print the predicted class labels\n",
    "print(\"Predicted class:\", predicted_labels[0])"
   ]
  },
  {
   "cell_type": "markdown",
   "metadata": {},
   "source": [
    "## Evaluación y predicción de todas las imagenes.\n",
    "\n",
    "En esta evaluación, se le pasan no solo imagenes que estaban contempladas en la elaboración del dataset, sino también algunas que no se contemplaron como lo son las gerberas y la flor de loto. También se evaluaron 2 ramos, uno de rosas y otro variado."
   ]
  },
  {
   "cell_type": "code",
   "execution_count": 1,
   "metadata": {},
   "outputs": [
    {
     "name": "stdout",
     "output_type": "stream",
     "text": [
      "WARNING:tensorflow:From C:\\Users\\betov\\AppData\\Local\\Packages\\PythonSoftwareFoundation.Python.3.11_qbz5n2kfra8p0\\LocalCache\\local-packages\\Python311\\site-packages\\keras\\src\\losses.py:2976: The name tf.losses.sparse_softmax_cross_entropy is deprecated. Please use tf.compat.v1.losses.sparse_softmax_cross_entropy instead.\n",
      "\n",
      "WARNING:tensorflow:From C:\\Users\\betov\\AppData\\Local\\Packages\\PythonSoftwareFoundation.Python.3.11_qbz5n2kfra8p0\\LocalCache\\local-packages\\Python311\\site-packages\\keras\\src\\saving\\legacy\\saved_model\\load.py:107: The name tf.gfile.Exists is deprecated. Please use tf.io.gfile.exists instead.\n",
      "\n",
      "WARNING:tensorflow:From C:\\Users\\betov\\AppData\\Local\\Packages\\PythonSoftwareFoundation.Python.3.11_qbz5n2kfra8p0\\LocalCache\\local-packages\\Python311\\site-packages\\keras\\src\\layers\\pooling\\max_pooling2d.py:161: The name tf.nn.max_pool is deprecated. Please use tf.nn.max_pool2d instead.\n",
      "\n",
      "WARNING:tensorflow:From C:\\Users\\betov\\AppData\\Local\\Packages\\PythonSoftwareFoundation.Python.3.11_qbz5n2kfra8p0\\LocalCache\\local-packages\\Python311\\site-packages\\keras\\src\\utils\\tf_utils.py:585: The name tf.executing_eagerly_outside_functions is deprecated. Please use tf.compat.v1.executing_eagerly_outside_functions instead.\n",
      "\n",
      "1/1 [==============================] - 0s 288ms/step\n",
      "cempa1.webp -------- Predicción: Cempa Probabilidades: [1. 0. 0. 0. 0.]\n",
      "-----------------------------------------\n",
      "1/1 [==============================] - 0s 24ms/step\n",
      "cempa2.jpeg -------- Predicción: Cempa Probabilidades: [1. 0. 0. 0. 0.]\n",
      "-----------------------------------------\n",
      "1/1 [==============================] - 0s 24ms/step\n",
      "dandelion1.jpg -------- Predicción: Dandelion Probabilidades: [0. 1. 0. 0. 0.]\n",
      "-----------------------------------------\n",
      "1/1 [==============================] - 0s 23ms/step\n",
      "dandelion2.webp -------- Predicción: Dandelion Probabilidades: [0. 1. 0. 0. 0.]\n",
      "-----------------------------------------\n",
      "1/1 [==============================] - 0s 23ms/step\n",
      "dandelion3.jpg -------- Predicción: Dandelion Probabilidades: [0. 1. 0. 0. 0.]\n",
      "-----------------------------------------\n",
      "1/1 [==============================] - 0s 27ms/step\n",
      "gerbera1.jpg -------- Predicción: Rosa Probabilidades: [0. 0. 0. 0. 1.]\n",
      "-----------------------------------------\n",
      "1/1 [==============================] - 0s 25ms/step\n",
      "gerbera2.jpg -------- Predicción: Dandelion Probabilidades: [0. 1. 0. 0. 0.]\n",
      "-----------------------------------------\n",
      "1/1 [==============================] - 0s 24ms/step\n",
      "girasol1.JPG -------- Predicción: Girasol Probabilidades: [0. 0. 1. 0. 0.]\n",
      "-----------------------------------------\n",
      "1/1 [==============================] - 0s 25ms/step\n",
      "loto1.jpg -------- Predicción: Rosa Probabilidades: [0. 0. 0. 0. 1.]\n",
      "-----------------------------------------\n",
      "1/1 [==============================] - 0s 23ms/step\n",
      "orquidea1.jpg -------- Predicción: Orquidea Probabilidades: [0. 0. 0. 1. 0.]\n",
      "-----------------------------------------\n",
      "1/1 [==============================] - 0s 22ms/step\n",
      "orquidea2.webp -------- Predicción: Orquidea Probabilidades: [0. 0. 0. 1. 0.]\n",
      "-----------------------------------------\n",
      "1/1 [==============================] - 0s 22ms/step\n",
      "ramoRosas.png -------- Predicción: Rosa Probabilidades: [0. 0. 0. 0. 1.]\n",
      "-----------------------------------------\n",
      "1/1 [==============================] - 0s 22ms/step\n",
      "ramoVariado.jpg -------- Predicción: Girasol Probabilidades: [0. 0. 1. 0. 0.]\n",
      "-----------------------------------------\n",
      "1/1 [==============================] - 0s 28ms/step\n",
      "rosa1.jpg -------- Predicción: Rosa Probabilidades: [0. 0. 0. 0. 1.]\n",
      "-----------------------------------------\n",
      "1/1 [==============================] - 0s 25ms/step\n",
      "rosa2.webp -------- Predicción: Rosa Probabilidades: [0. 0. 0. 0. 1.]\n",
      "-----------------------------------------\n"
     ]
    }
   ],
   "source": [
    "import re\n",
    "import tensorflow as tf\n",
    "import os\n",
    "from tensorflow.keras.preprocessing import image\n",
    "import numpy as np\n",
    "\n",
    "dirname = os.path.join(os.getcwd(), 'imgsPrueba/')\n",
    "imgpath = dirname + os.sep\n",
    "\n",
    "model_path = 'celulas.h5py'\n",
    "model = tf.keras.models.load_model(model_path)\n",
    "\n",
    "target_size = (200, 200)\n",
    "\n",
    "allowed_extensions = re.compile(r\"\\.(jpg|jpeg|png|bmp|tiff|webp)$\", re.IGNORECASE)\n",
    "image_files = [f for f in os.listdir(dirname) if allowed_extensions.search(f)]\n",
    "\n",
    "for flower in image_files:\n",
    "    img_path = os.path.join(dirname, flower)\n",
    "\n",
    "    img = image.load_img(img_path, target_size=target_size)\n",
    "    img_array = image.img_to_array(img)\n",
    "    img_array = np.expand_dims(img_array, axis=0)\n",
    "\n",
    "    predictions = model.predict(img_array)\n",
    "\n",
    "    class_labels = [\"Cempa\", \"Dandelion\", \"Girasol\", \"Orquidea\", \"Rosa\"]\n",
    "    predicted_class_indices = np.argmax(predictions, axis=1)\n",
    "    predicted_label = class_labels[predicted_class_indices[0]]\n",
    "\n",
    "    print(flower, \"-------- Predicción:\", predicted_label, \"Probabilidades:\", predictions[0])\n",
    "    print(\"-----------------------------------------\")\n"
   ]
  }
 ],
 "metadata": {
  "kernelspec": {
   "display_name": "Python 3",
   "language": "python",
   "name": "python3"
  },
  "language_info": {
   "codemirror_mode": {
    "name": "ipython",
    "version": 3
   },
   "file_extension": ".py",
   "mimetype": "text/x-python",
   "name": "python",
   "nbconvert_exporter": "python",
   "pygments_lexer": "ipython3",
   "version": "3.11.7"
  }
 },
 "nbformat": 4,
 "nbformat_minor": 2
}
