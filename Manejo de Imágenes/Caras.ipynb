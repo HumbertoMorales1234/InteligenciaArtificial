{
 "cells": [
  {
   "cell_type": "code",
   "execution_count": null,
   "metadata": {},
   "outputs": [],
   "source": [
    "import cv2 as cv\n",
    "\n",
    "rostro = cv.CascadeClassifier('haarcascade_frontalface_alt.xml')\n",
    "cap = cv.VideoCapture(0)\n",
    "i=0\n",
    "while True:\n",
    "    ret, frame = cap.read()\n",
    "    gray= cv.cvtColor(frame, cv.COLOR_BGR2GRAY)\n",
    "    rostros = rostro.detectMultiScale(gray, 1.3, 5)\n",
    "    i+=1\n",
    "    for(x, y, w, h) in rostros:\n",
    "        frame = cv.rectangle(frame, (x,y), (x+w, y+h), (0, 255, 0), 2)                                                  #Rostro\n",
    "        frame = cv.rectangle(frame, (x+int(w*3/8),y+int(h*10/24)), (x+int(w*5/8), y+int(h*17/24)), (255, 255, 0), 2)    #Nariz\n",
    "        frame = cv.circle(frame, ( x+int(w/3.2) , y+int(h/2.3)), 15, (255, 20, 255), 2)                                 #OjoIzq\n",
    "        frame = cv.circle(frame, ( x+(int(w/3.0)*2) , y+int(h/2.3)), 15, (255, 20, 255), 2)                             #OjoDer\n",
    "        frame = cv.circle(frame, ( x+(int(w/2)) , y+int(h/1.2)), 20, (40, 40, 255), 2)                                  #Boca\n",
    "        \n",
    "        frame2 = frame[x:x+w, y: y+h]\n",
    "    #cv.imwrite(''+str(i)+'.jpg', frame) #*Guarda los frames del video como imagenes\n",
    "    cv.imshow('rostros', frame)\n",
    "    k = cv.waitKey(1)\n",
    "    if k== ord('q'):\n",
    "        break\n",
    "cap.release()\n",
    "cv.destroyAllWindows()"
   ]
  },
  {
   "cell_type": "code",
   "execution_count": 55,
   "metadata": {},
   "outputs": [],
   "source": [
    "import cv2 as cv\n",
    "\n",
    "cap = cv.VideoCapture(0)\n",
    "i=0\n",
    "while True:\n",
    "    ret, frame = cap.read()\n",
    "    frame =  cv.rectangle(frame, (100, 100), (600, 600), (100, 200, 100), 2)\n",
    "    cara = frame[200:600, 200:600]\n",
    "    \n",
    "    cv.imshow('rostros', frame)\n",
    "    cv.imshow('cara', cara)\n",
    "    \n",
    "    k = cv.waitKey(1)\n",
    "    if k == ord('s'):\n",
    "        i=i+1\n",
    "        cv.imwrite('imgGeneradas/cara'+str(i)+'.jpg', cara) #*Guarda los frames del video como imagenes\n",
    "        \n",
    "    if k== ord('q'):\n",
    "        break\n",
    "cap.release()\n",
    "cv.destroyAllWindows()"
   ]
  }
 ],
 "metadata": {
  "kernelspec": {
   "display_name": "Python 3",
   "language": "python",
   "name": "python3"
  },
  "language_info": {
   "codemirror_mode": {
    "name": "ipython",
    "version": 3
   },
   "file_extension": ".py",
   "mimetype": "text/x-python",
   "name": "python",
   "nbconvert_exporter": "python",
   "pygments_lexer": "ipython3",
   "version": "3.10.11"
  },
  "orig_nbformat": 4
 },
 "nbformat": 4,
 "nbformat_minor": 2
}
